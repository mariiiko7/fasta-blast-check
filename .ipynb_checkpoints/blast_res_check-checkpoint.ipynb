{
 "cells": [
  {
   "cell_type": "markdown",
   "metadata": {},
   "source": [
    "# This note is for chcking the top and the second blast results"
   ]
  },
  {
   "cell_type": "code",
   "execution_count": 71,
   "metadata": {},
   "outputs": [
    {
     "name": "stdout",
     "output_type": "stream",
     "text": [
      "The autoreload extension is already loaded. To reload it, use:\n",
      "  %reload_ext autoreload\n"
     ]
    }
   ],
   "source": [
    "%load_ext autoreload\n",
    "%autoreload 2\n",
    "%matplotlib inline\n",
    "\n",
    "# import libraries\n",
    "import numpy as np\n",
    "import pandas as pd\n",
    "import seaborn as sns\n",
    "import matplotlib.pyplot as plt\n",
    "import utils\n",
    "from tqdm import tqdm\n",
    "from glob import glob\n",
    "from Bio.Blast import NCBIWWW\n",
    "from Bio.SearchIO._legacy import NCBIStandalone"
   ]
  },
  {
   "cell_type": "code",
   "execution_count": 4,
   "metadata": {},
   "outputs": [],
   "source": [
    "# load all data paths\n",
    "data_path = glob('/Users/mariko/Documents/github/data/190822_ZnDsv-02_all_nt-to-N31_RES/*.blastnout')"
   ]
  },
  {
   "cell_type": "code",
   "execution_count": 8,
   "metadata": {},
   "outputs": [
    {
     "data": {
      "text/plain": [
       "['/Users/mariko/Documents/github/data/190822_ZnDsv-02_all_nt-to-N31_RES/ZnDsv-02_all_1307.blastnout',\n",
       " '/Users/mariko/Documents/github/data/190822_ZnDsv-02_all_nt-to-N31_RES/ZnDsv-02_all_1131.blastnout',\n",
       " '/Users/mariko/Documents/github/data/190822_ZnDsv-02_all_nt-to-N31_RES/ZnDsv-02_all_1288.blastnout',\n",
       " '/Users/mariko/Documents/github/data/190822_ZnDsv-02_all_nt-to-N31_RES/ZnDsv-02_all_1241.blastnout',\n",
       " '/Users/mariko/Documents/github/data/190822_ZnDsv-02_all_nt-to-N31_RES/ZnDsv-02_all_1077.blastnout']"
      ]
     },
     "execution_count": 8,
     "metadata": {},
     "output_type": "execute_result"
    }
   ],
   "source": [
    "# check\n",
    "data_path[:5]"
   ]
  },
  {
   "cell_type": "code",
   "execution_count": 11,
   "metadata": {},
   "outputs": [],
   "source": [
    "parser = NCBIStandalone.BlastParser()\n",
    "result = parser.parse(open(data_path[0]))"
   ]
  },
  {
   "cell_type": "code",
   "execution_count": 12,
   "metadata": {},
   "outputs": [
    {
     "name": "stderr",
     "output_type": "stream",
     "text": [
      "100%|██████████| 1447/1447 [00:04<00:00, 308.08it/s]\n"
     ]
    }
   ],
   "source": [
    "# execute parser\n",
    "# from Bio.SearchIO._legacy import NCBIStandalone\n",
    "parser = NCBIStandalone.BlastParser()\n",
    "data_path_list = glob('/Users/mariko/Documents/github/data/190822_ZnDsv-02_all_nt-to-N31_RES/*.blastnout')\n",
    "data_list = []\n",
    "for data_path in tqdm(data_path_list):\n",
    "    file_name = data_path.split('/')[-1].split('.')[0]\n",
    "    data = {}\n",
    "    data[\"file_name\"] = file_name\n",
    "    data[\"result\"] = parser.parse(open(data_path))\n",
    "    data_list.append(data)"
   ]
  },
  {
   "cell_type": "code",
   "execution_count": 23,
   "metadata": {},
   "outputs": [],
   "source": [
    "# get top data\n",
    "top_results_list = []\n",
    "for data in data_list:\n",
    "    top_data = {}\n",
    "    top_data['g_id'] = data['file_name']\n",
    "    top_data['outputs'] = utils.get_top_alignment(data['result'])\n",
    "    top_results_list.append(top_data)"
   ]
  },
  {
   "cell_type": "code",
   "execution_count": 24,
   "metadata": {},
   "outputs": [
    {
     "data": {
      "text/plain": [
       "[{'g_id': 'ZnDsv-02_all_1307',\n",
       "  'outputs': [{'identities': 1.0,\n",
       "    'query_start': 33,\n",
       "    'sbjct_start': 88,\n",
       "    'start_difference': -55,\n",
       "    'alignment_length': 16,\n",
       "    'alignment': <Bio.Blast.Record.Alignment at 0x1a2285dd68>}]},\n",
       " {'g_id': 'ZnDsv-02_all_1131',\n",
       "  'outputs': [{'identities': 0.6993006993006993,\n",
       "    'query_start': 83,\n",
       "    'sbjct_start': 98,\n",
       "    'start_difference': -15,\n",
       "    'alignment_length': 286,\n",
       "    'alignment': <Bio.Blast.Record.Alignment at 0x1a229945f8>}]},\n",
       " {'g_id': 'ZnDsv-02_all_1288',\n",
       "  'outputs': [{'identities': 0.73828125,\n",
       "    'query_start': 1,\n",
       "    'sbjct_start': 1,\n",
       "    'start_difference': 0,\n",
       "    'alignment_length': 512,\n",
       "    'alignment': <Bio.Blast.Record.Alignment at 0x1a229d8a20>}]},\n",
       " {'g_id': 'ZnDsv-02_all_1241',\n",
       "  'outputs': [{'identities': 0.8055555555555556,\n",
       "    'query_start': 439,\n",
       "    'sbjct_start': 1159,\n",
       "    'start_difference': -720,\n",
       "    'alignment_length': 36,\n",
       "    'alignment': <Bio.Blast.Record.Alignment at 0x1a229e2978>}]},\n",
       " {'g_id': 'ZnDsv-02_all_1077',\n",
       "  'outputs': [{'identities': 0.7321016166281755,\n",
       "    'query_start': 15,\n",
       "    'sbjct_start': 9,\n",
       "    'start_difference': 6,\n",
       "    'alignment_length': 866,\n",
       "    'alignment': <Bio.Blast.Record.Alignment at 0x1a229e8fd0>}]}]"
      ]
     },
     "execution_count": 24,
     "metadata": {},
     "output_type": "execute_result"
    }
   ],
   "source": [
    "# check\n",
    "top_results_list[:5]"
   ]
  },
  {
   "cell_type": "code",
   "execution_count": 18,
   "metadata": {},
   "outputs": [],
   "source": [
    "# list to DataFrame\n",
    "top_df = utils.make_data_frame_from_list(top_results_list)"
   ]
  },
  {
   "cell_type": "code",
   "execution_count": 48,
   "metadata": {},
   "outputs": [
    {
     "data": {
      "text/html": [
       "<div>\n",
       "<style scoped>\n",
       "    .dataframe tbody tr th:only-of-type {\n",
       "        vertical-align: middle;\n",
       "    }\n",
       "\n",
       "    .dataframe tbody tr th {\n",
       "        vertical-align: top;\n",
       "    }\n",
       "\n",
       "    .dataframe thead th {\n",
       "        text-align: right;\n",
       "    }\n",
       "</style>\n",
       "<table border=\"1\" class=\"dataframe\">\n",
       "  <thead>\n",
       "    <tr style=\"text-align: right;\">\n",
       "      <th></th>\n",
       "      <th>alignment_length</th>\n",
       "      <th>g_id</th>\n",
       "      <th>gene_name</th>\n",
       "      <th>identities</th>\n",
       "      <th>query_start</th>\n",
       "      <th>sbjct_start</th>\n",
       "      <th>start_difference</th>\n",
       "    </tr>\n",
       "  </thead>\n",
       "  <tbody>\n",
       "    <tr>\n",
       "      <th>704</th>\n",
       "      <td>41</td>\n",
       "      <td>ZnDsv-02_all_0001</td>\n",
       "      <td>&gt; RSDT_0699 outer membrane autotransporter</td>\n",
       "      <td>0.853659</td>\n",
       "      <td>754</td>\n",
       "      <td>2200</td>\n",
       "      <td>-1446</td>\n",
       "    </tr>\n",
       "    <tr>\n",
       "      <th>1003</th>\n",
       "      <td>1403</td>\n",
       "      <td>ZnDsv-02_all_0002</td>\n",
       "      <td>&gt; RSDT_0931 polysaccharide efflux protein RfbX</td>\n",
       "      <td>0.718460</td>\n",
       "      <td>1</td>\n",
       "      <td>1</td>\n",
       "      <td>0</td>\n",
       "    </tr>\n",
       "    <tr>\n",
       "      <th>1380</th>\n",
       "      <td>827</td>\n",
       "      <td>ZnDsv-02_all_0003</td>\n",
       "      <td>&gt; RSDT_0930 uncharacterized outer membrane eff...</td>\n",
       "      <td>0.717050</td>\n",
       "      <td>89</td>\n",
       "      <td>98</td>\n",
       "      <td>-9</td>\n",
       "    </tr>\n",
       "    <tr>\n",
       "      <th>877</th>\n",
       "      <td>1403</td>\n",
       "      <td>ZnDsv-02_all_0004</td>\n",
       "      <td>&gt; RSDT_0929 uncharacterized outer membrane eff...</td>\n",
       "      <td>0.740556</td>\n",
       "      <td>68</td>\n",
       "      <td>68</td>\n",
       "      <td>0</td>\n",
       "    </tr>\n",
       "    <tr>\n",
       "      <th>1265</th>\n",
       "      <td>967</td>\n",
       "      <td>ZnDsv-02_all_0005</td>\n",
       "      <td>&gt; RSDT_0928 uncharacterized membrane-bound acy...</td>\n",
       "      <td>0.692865</td>\n",
       "      <td>40</td>\n",
       "      <td>232</td>\n",
       "      <td>-192</td>\n",
       "    </tr>\n",
       "  </tbody>\n",
       "</table>\n",
       "</div>"
      ],
      "text/plain": [
       "      alignment_length               g_id  \\\n",
       "704                 41  ZnDsv-02_all_0001   \n",
       "1003              1403  ZnDsv-02_all_0002   \n",
       "1380               827  ZnDsv-02_all_0003   \n",
       "877               1403  ZnDsv-02_all_0004   \n",
       "1265               967  ZnDsv-02_all_0005   \n",
       "\n",
       "                                              gene_name  identities  \\\n",
       "704          > RSDT_0699 outer membrane autotransporter    0.853659   \n",
       "1003     > RSDT_0931 polysaccharide efflux protein RfbX    0.718460   \n",
       "1380  > RSDT_0930 uncharacterized outer membrane eff...    0.717050   \n",
       "877   > RSDT_0929 uncharacterized outer membrane eff...    0.740556   \n",
       "1265  > RSDT_0928 uncharacterized membrane-bound acy...    0.692865   \n",
       "\n",
       "      query_start  sbjct_start  start_difference  \n",
       "704           754         2200             -1446  \n",
       "1003            1            1                 0  \n",
       "1380           89           98                -9  \n",
       "877            68           68                 0  \n",
       "1265           40          232              -192  "
      ]
     },
     "execution_count": 48,
     "metadata": {},
     "output_type": "execute_result"
    }
   ],
   "source": [
    "# check\n",
    "top_df.head()"
   ]
  },
  {
   "cell_type": "code",
   "execution_count": 66,
   "metadata": {},
   "outputs": [],
   "source": [
    "# get second data\n",
    "second_results_list = []\n",
    "for data in data_list:\n",
    "    second_data = {}\n",
    "    second_data['g_id'] = data['file_name']\n",
    "    second_data['outputs'] = utils.get_second_alignment(data['result'])\n",
    "    second_results_list.append(second_data)"
   ]
  },
  {
   "cell_type": "code",
   "execution_count": 67,
   "metadata": {},
   "outputs": [
    {
     "data": {
      "text/plain": [
       "[{'g_id': 'ZnDsv-02_all_1307',\n",
       "  'outputs': [{'identities': 0.9444444444444444,\n",
       "    'query_start': 941,\n",
       "    'sbjct_start': 527,\n",
       "    'start_difference': 414,\n",
       "    'alignment_length': 18,\n",
       "    'alignment': <Bio.Blast.Record.Alignment at 0x1a2285d6d8>}]},\n",
       " {'g_id': 'ZnDsv-02_all_1131',\n",
       "  'outputs': [{'identities': 0.8709677419354839,\n",
       "    'query_start': 90,\n",
       "    'sbjct_start': 138,\n",
       "    'start_difference': -48,\n",
       "    'alignment_length': 31,\n",
       "    'alignment': <Bio.Blast.Record.Alignment at 0x1a22994668>}]},\n",
       " {'g_id': 'ZnDsv-02_all_1288',\n",
       "  'outputs': [{'identities': 0.9473684210526315,\n",
       "    'query_start': 333,\n",
       "    'sbjct_start': 291,\n",
       "    'start_difference': 42,\n",
       "    'alignment_length': 19,\n",
       "    'alignment': <Bio.Blast.Record.Alignment at 0x1a229d8a90>}]},\n",
       " {'g_id': 'ZnDsv-02_all_1241',\n",
       "  'outputs': [{'identities': 1.0,\n",
       "    'query_start': 222,\n",
       "    'sbjct_start': 1881,\n",
       "    'start_difference': -1659,\n",
       "    'alignment_length': 16,\n",
       "    'alignment': <Bio.Blast.Record.Alignment at 0x1a229e29e8>}]},\n",
       " {'g_id': 'ZnDsv-02_all_1077',\n",
       "  'outputs': [{'identities': 0.8181818181818182,\n",
       "    'query_start': 172,\n",
       "    'sbjct_start': 472,\n",
       "    'start_difference': -300,\n",
       "    'alignment_length': 33,\n",
       "    'alignment': <Bio.Blast.Record.Alignment at 0x1a229ef080>}]}]"
      ]
     },
     "execution_count": 67,
     "metadata": {},
     "output_type": "execute_result"
    }
   ],
   "source": [
    "# check\n",
    "second_results_list[:5]"
   ]
  },
  {
   "cell_type": "code",
   "execution_count": 68,
   "metadata": {},
   "outputs": [],
   "source": [
    "# list to DataFrame\n",
    "second_df = utils.make_data_frame_from_list(second_results_list)"
   ]
  },
  {
   "cell_type": "code",
   "execution_count": 69,
   "metadata": {},
   "outputs": [
    {
     "data": {
      "text/html": [
       "<div>\n",
       "<style scoped>\n",
       "    .dataframe tbody tr th:only-of-type {\n",
       "        vertical-align: middle;\n",
       "    }\n",
       "\n",
       "    .dataframe tbody tr th {\n",
       "        vertical-align: top;\n",
       "    }\n",
       "\n",
       "    .dataframe thead th {\n",
       "        text-align: right;\n",
       "    }\n",
       "</style>\n",
       "<table border=\"1\" class=\"dataframe\">\n",
       "  <thead>\n",
       "    <tr style=\"text-align: right;\">\n",
       "      <th></th>\n",
       "      <th>alignment_length</th>\n",
       "      <th>g_id</th>\n",
       "      <th>gene_name</th>\n",
       "      <th>identities</th>\n",
       "      <th>query_start</th>\n",
       "      <th>sbjct_start</th>\n",
       "      <th>start_difference</th>\n",
       "    </tr>\n",
       "  </thead>\n",
       "  <tbody>\n",
       "    <tr>\n",
       "      <th>704</th>\n",
       "      <td>41.0</td>\n",
       "      <td>ZnDsv-02_all_0001</td>\n",
       "      <td>&gt; RSDT_0551 outer membrane autotransporter</td>\n",
       "      <td>0.853659</td>\n",
       "      <td>754.0</td>\n",
       "      <td>2200.0</td>\n",
       "      <td>-1446.0</td>\n",
       "    </tr>\n",
       "    <tr>\n",
       "      <th>1003</th>\n",
       "      <td>35.0</td>\n",
       "      <td>ZnDsv-02_all_0002</td>\n",
       "      <td>&gt; RSDT_0214 NAD-dependent DNA ligase</td>\n",
       "      <td>0.828571</td>\n",
       "      <td>357.0</td>\n",
       "      <td>962.0</td>\n",
       "      <td>-605.0</td>\n",
       "    </tr>\n",
       "    <tr>\n",
       "      <th>1380</th>\n",
       "      <td>33.0</td>\n",
       "      <td>ZnDsv-02_all_0003</td>\n",
       "      <td>&gt; RSDT_0704 diguanylate cyclase domain-contain...</td>\n",
       "      <td>0.818182</td>\n",
       "      <td>321.0</td>\n",
       "      <td>2340.0</td>\n",
       "      <td>-2019.0</td>\n",
       "    </tr>\n",
       "    <tr>\n",
       "      <th>877</th>\n",
       "      <td>33.0</td>\n",
       "      <td>ZnDsv-02_all_0004</td>\n",
       "      <td>&gt; RSDT_0184 carbamoyl phosphate synthase small...</td>\n",
       "      <td>0.818182</td>\n",
       "      <td>1421.0</td>\n",
       "      <td>416.0</td>\n",
       "      <td>1005.0</td>\n",
       "    </tr>\n",
       "    <tr>\n",
       "      <th>1265</th>\n",
       "      <td>26.0</td>\n",
       "      <td>ZnDsv-02_all_0005</td>\n",
       "      <td>&gt; RSDT_0806 uncharacterized glycosyltransferase</td>\n",
       "      <td>0.884615</td>\n",
       "      <td>592.0</td>\n",
       "      <td>45.0</td>\n",
       "      <td>547.0</td>\n",
       "    </tr>\n",
       "  </tbody>\n",
       "</table>\n",
       "</div>"
      ],
      "text/plain": [
       "      alignment_length               g_id  \\\n",
       "704               41.0  ZnDsv-02_all_0001   \n",
       "1003              35.0  ZnDsv-02_all_0002   \n",
       "1380              33.0  ZnDsv-02_all_0003   \n",
       "877               33.0  ZnDsv-02_all_0004   \n",
       "1265              26.0  ZnDsv-02_all_0005   \n",
       "\n",
       "                                              gene_name  identities  \\\n",
       "704          > RSDT_0551 outer membrane autotransporter    0.853659   \n",
       "1003               > RSDT_0214 NAD-dependent DNA ligase    0.828571   \n",
       "1380  > RSDT_0704 diguanylate cyclase domain-contain...    0.818182   \n",
       "877   > RSDT_0184 carbamoyl phosphate synthase small...    0.818182   \n",
       "1265    > RSDT_0806 uncharacterized glycosyltransferase    0.884615   \n",
       "\n",
       "      query_start  sbjct_start  start_difference  \n",
       "704         754.0       2200.0           -1446.0  \n",
       "1003        357.0        962.0            -605.0  \n",
       "1380        321.0       2340.0           -2019.0  \n",
       "877        1421.0        416.0            1005.0  \n",
       "1265        592.0         45.0             547.0  "
      ]
     },
     "execution_count": 69,
     "metadata": {},
     "output_type": "execute_result"
    }
   ],
   "source": [
    "# check\n",
    "second_df.head()"
   ]
  },
  {
   "cell_type": "code",
   "execution_count": 43,
   "metadata": {},
   "outputs": [],
   "source": [
    "# save it as excel\n",
    "top_df.to_excel('/Users/mariko/Documents/github/data/190822_N31_blastpcheck.xlsx')"
   ]
  },
  {
   "cell_type": "code",
   "execution_count": 26,
   "metadata": {},
   "outputs": [],
   "source": [
    "# save it as excel\n",
    "second_df.to_excel('/Users/mariko/Documents/github/data/191013_N31_blastpcheck.xlsx')"
   ]
  },
  {
   "cell_type": "code",
   "execution_count": null,
   "metadata": {},
   "outputs": [],
   "source": []
  }
 ],
 "metadata": {
  "kernelspec": {
   "display_name": "Python 3",
   "language": "python",
   "name": "python3"
  },
  "language_info": {
   "codemirror_mode": {
    "name": "ipython",
    "version": 3
   },
   "file_extension": ".py",
   "mimetype": "text/x-python",
   "name": "python",
   "nbconvert_exporter": "python",
   "pygments_lexer": "ipython3",
   "version": "3.7.3"
  }
 },
 "nbformat": 4,
 "nbformat_minor": 2
}
